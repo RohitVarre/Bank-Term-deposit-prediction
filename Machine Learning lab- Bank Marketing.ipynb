{
 "cells": [
  {
   "cell_type": "markdown",
   "id": "6ce1f500",
   "metadata": {},
   "source": [
    "# Importing the necessary libraries"
   ]
  },
  {
   "cell_type": "code",
   "execution_count": 155,
   "id": "029933b9",
   "metadata": {},
   "outputs": [],
   "source": [
    "import numpy as np\n",
    "import os\n",
    "import pandas as pd\n",
    "import matplotlib.pyplot as plt\n",
    "import seaborn as sns\n",
    "import sklearn\n",
    "import tensorflow as tf\n",
    "from tensorflow import keras\n",
    "from tensorflow.keras.layers import Dense,Activation,Dropout,BatchNormalization\n",
    "from tensorflow.keras.models import Sequential\n",
    "from tensorflow.keras.optimizers import Adam,SGD\n",
    "from tensorflow.keras.metrics import Accuracy\n",
    "from sklearn.metrics import confusion_matrix\n",
    "from sklearn.metrics import accuracy_score\n",
    "from sklearn.model_selection import cross_val_score"
   ]
  },
  {
   "cell_type": "markdown",
   "id": "e2e0a06d",
   "metadata": {},
   "source": [
    "# Importing and exploring data"
   ]
  },
  {
   "cell_type": "code",
   "execution_count": 156,
   "id": "6c71b062",
   "metadata": {},
   "outputs": [],
   "source": [
    "df = pd.read_csv(r\"C:\\Users\\Rohit Varre\\Desktop\\MliS\\ML lab\\bank-full.csv\")"
   ]
  },
  {
   "cell_type": "code",
   "execution_count": 157,
   "id": "df455763",
   "metadata": {},
   "outputs": [
    {
     "data": {
      "text/html": [
       "<div>\n",
       "<style scoped>\n",
       "    .dataframe tbody tr th:only-of-type {\n",
       "        vertical-align: middle;\n",
       "    }\n",
       "\n",
       "    .dataframe tbody tr th {\n",
       "        vertical-align: top;\n",
       "    }\n",
       "\n",
       "    .dataframe thead th {\n",
       "        text-align: right;\n",
       "    }\n",
       "</style>\n",
       "<table border=\"1\" class=\"dataframe\">\n",
       "  <thead>\n",
       "    <tr style=\"text-align: right;\">\n",
       "      <th></th>\n",
       "      <th>age</th>\n",
       "      <th>job</th>\n",
       "      <th>marital</th>\n",
       "      <th>education</th>\n",
       "      <th>default</th>\n",
       "      <th>balance</th>\n",
       "      <th>housing</th>\n",
       "      <th>loan</th>\n",
       "      <th>contact</th>\n",
       "      <th>day</th>\n",
       "      <th>month</th>\n",
       "      <th>duration</th>\n",
       "      <th>campaign</th>\n",
       "      <th>pdays</th>\n",
       "      <th>previous</th>\n",
       "      <th>poutcome</th>\n",
       "      <th>y</th>\n",
       "    </tr>\n",
       "  </thead>\n",
       "  <tbody>\n",
       "    <tr>\n",
       "      <th>0</th>\n",
       "      <td>58</td>\n",
       "      <td>management</td>\n",
       "      <td>married</td>\n",
       "      <td>tertiary</td>\n",
       "      <td>no</td>\n",
       "      <td>2143</td>\n",
       "      <td>yes</td>\n",
       "      <td>no</td>\n",
       "      <td>unknown</td>\n",
       "      <td>5</td>\n",
       "      <td>may</td>\n",
       "      <td>261</td>\n",
       "      <td>1</td>\n",
       "      <td>-1</td>\n",
       "      <td>0</td>\n",
       "      <td>unknown</td>\n",
       "      <td>no</td>\n",
       "    </tr>\n",
       "    <tr>\n",
       "      <th>1</th>\n",
       "      <td>44</td>\n",
       "      <td>technician</td>\n",
       "      <td>single</td>\n",
       "      <td>secondary</td>\n",
       "      <td>no</td>\n",
       "      <td>29</td>\n",
       "      <td>yes</td>\n",
       "      <td>no</td>\n",
       "      <td>unknown</td>\n",
       "      <td>5</td>\n",
       "      <td>may</td>\n",
       "      <td>151</td>\n",
       "      <td>1</td>\n",
       "      <td>-1</td>\n",
       "      <td>0</td>\n",
       "      <td>unknown</td>\n",
       "      <td>no</td>\n",
       "    </tr>\n",
       "    <tr>\n",
       "      <th>2</th>\n",
       "      <td>33</td>\n",
       "      <td>entrepreneur</td>\n",
       "      <td>married</td>\n",
       "      <td>secondary</td>\n",
       "      <td>no</td>\n",
       "      <td>2</td>\n",
       "      <td>yes</td>\n",
       "      <td>yes</td>\n",
       "      <td>unknown</td>\n",
       "      <td>5</td>\n",
       "      <td>may</td>\n",
       "      <td>76</td>\n",
       "      <td>1</td>\n",
       "      <td>-1</td>\n",
       "      <td>0</td>\n",
       "      <td>unknown</td>\n",
       "      <td>no</td>\n",
       "    </tr>\n",
       "    <tr>\n",
       "      <th>3</th>\n",
       "      <td>47</td>\n",
       "      <td>blue-collar</td>\n",
       "      <td>married</td>\n",
       "      <td>unknown</td>\n",
       "      <td>no</td>\n",
       "      <td>1506</td>\n",
       "      <td>yes</td>\n",
       "      <td>no</td>\n",
       "      <td>unknown</td>\n",
       "      <td>5</td>\n",
       "      <td>may</td>\n",
       "      <td>92</td>\n",
       "      <td>1</td>\n",
       "      <td>-1</td>\n",
       "      <td>0</td>\n",
       "      <td>unknown</td>\n",
       "      <td>no</td>\n",
       "    </tr>\n",
       "    <tr>\n",
       "      <th>4</th>\n",
       "      <td>33</td>\n",
       "      <td>unknown</td>\n",
       "      <td>single</td>\n",
       "      <td>unknown</td>\n",
       "      <td>no</td>\n",
       "      <td>1</td>\n",
       "      <td>no</td>\n",
       "      <td>no</td>\n",
       "      <td>unknown</td>\n",
       "      <td>5</td>\n",
       "      <td>may</td>\n",
       "      <td>198</td>\n",
       "      <td>1</td>\n",
       "      <td>-1</td>\n",
       "      <td>0</td>\n",
       "      <td>unknown</td>\n",
       "      <td>no</td>\n",
       "    </tr>\n",
       "    <tr>\n",
       "      <th>...</th>\n",
       "      <td>...</td>\n",
       "      <td>...</td>\n",
       "      <td>...</td>\n",
       "      <td>...</td>\n",
       "      <td>...</td>\n",
       "      <td>...</td>\n",
       "      <td>...</td>\n",
       "      <td>...</td>\n",
       "      <td>...</td>\n",
       "      <td>...</td>\n",
       "      <td>...</td>\n",
       "      <td>...</td>\n",
       "      <td>...</td>\n",
       "      <td>...</td>\n",
       "      <td>...</td>\n",
       "      <td>...</td>\n",
       "      <td>...</td>\n",
       "    </tr>\n",
       "    <tr>\n",
       "      <th>45196</th>\n",
       "      <td>25</td>\n",
       "      <td>student</td>\n",
       "      <td>single</td>\n",
       "      <td>secondary</td>\n",
       "      <td>no</td>\n",
       "      <td>358</td>\n",
       "      <td>no</td>\n",
       "      <td>no</td>\n",
       "      <td>cellular</td>\n",
       "      <td>16</td>\n",
       "      <td>nov</td>\n",
       "      <td>330</td>\n",
       "      <td>1</td>\n",
       "      <td>-1</td>\n",
       "      <td>0</td>\n",
       "      <td>unknown</td>\n",
       "      <td>yes</td>\n",
       "    </tr>\n",
       "    <tr>\n",
       "      <th>45197</th>\n",
       "      <td>36</td>\n",
       "      <td>management</td>\n",
       "      <td>single</td>\n",
       "      <td>secondary</td>\n",
       "      <td>no</td>\n",
       "      <td>1511</td>\n",
       "      <td>yes</td>\n",
       "      <td>no</td>\n",
       "      <td>cellular</td>\n",
       "      <td>16</td>\n",
       "      <td>nov</td>\n",
       "      <td>270</td>\n",
       "      <td>1</td>\n",
       "      <td>-1</td>\n",
       "      <td>0</td>\n",
       "      <td>unknown</td>\n",
       "      <td>yes</td>\n",
       "    </tr>\n",
       "    <tr>\n",
       "      <th>45198</th>\n",
       "      <td>37</td>\n",
       "      <td>management</td>\n",
       "      <td>married</td>\n",
       "      <td>tertiary</td>\n",
       "      <td>no</td>\n",
       "      <td>1428</td>\n",
       "      <td>no</td>\n",
       "      <td>no</td>\n",
       "      <td>cellular</td>\n",
       "      <td>16</td>\n",
       "      <td>nov</td>\n",
       "      <td>333</td>\n",
       "      <td>2</td>\n",
       "      <td>-1</td>\n",
       "      <td>0</td>\n",
       "      <td>unknown</td>\n",
       "      <td>no</td>\n",
       "    </tr>\n",
       "    <tr>\n",
       "      <th>45199</th>\n",
       "      <td>34</td>\n",
       "      <td>blue-collar</td>\n",
       "      <td>single</td>\n",
       "      <td>secondary</td>\n",
       "      <td>no</td>\n",
       "      <td>1475</td>\n",
       "      <td>yes</td>\n",
       "      <td>no</td>\n",
       "      <td>cellular</td>\n",
       "      <td>16</td>\n",
       "      <td>nov</td>\n",
       "      <td>1166</td>\n",
       "      <td>3</td>\n",
       "      <td>530</td>\n",
       "      <td>12</td>\n",
       "      <td>other</td>\n",
       "      <td>no</td>\n",
       "    </tr>\n",
       "    <tr>\n",
       "      <th>45200</th>\n",
       "      <td>38</td>\n",
       "      <td>technician</td>\n",
       "      <td>married</td>\n",
       "      <td>secondary</td>\n",
       "      <td>no</td>\n",
       "      <td>557</td>\n",
       "      <td>yes</td>\n",
       "      <td>no</td>\n",
       "      <td>cellular</td>\n",
       "      <td>16</td>\n",
       "      <td>nov</td>\n",
       "      <td>1556</td>\n",
       "      <td>4</td>\n",
       "      <td>-1</td>\n",
       "      <td>0</td>\n",
       "      <td>unknown</td>\n",
       "      <td>yes</td>\n",
       "    </tr>\n",
       "  </tbody>\n",
       "</table>\n",
       "<p>45201 rows × 17 columns</p>\n",
       "</div>"
      ],
      "text/plain": [
       "       age           job  marital  education default  balance housing loan  \\\n",
       "0       58    management  married   tertiary      no     2143     yes   no   \n",
       "1       44    technician   single  secondary      no       29     yes   no   \n",
       "2       33  entrepreneur  married  secondary      no        2     yes  yes   \n",
       "3       47   blue-collar  married    unknown      no     1506     yes   no   \n",
       "4       33       unknown   single    unknown      no        1      no   no   \n",
       "...    ...           ...      ...        ...     ...      ...     ...  ...   \n",
       "45196   25       student   single  secondary      no      358      no   no   \n",
       "45197   36    management   single  secondary      no     1511     yes   no   \n",
       "45198   37    management  married   tertiary      no     1428      no   no   \n",
       "45199   34   blue-collar   single  secondary      no     1475     yes   no   \n",
       "45200   38    technician  married  secondary      no      557     yes   no   \n",
       "\n",
       "        contact  day month  duration  campaign  pdays  previous poutcome    y  \n",
       "0       unknown    5   may       261         1     -1         0  unknown   no  \n",
       "1       unknown    5   may       151         1     -1         0  unknown   no  \n",
       "2       unknown    5   may        76         1     -1         0  unknown   no  \n",
       "3       unknown    5   may        92         1     -1         0  unknown   no  \n",
       "4       unknown    5   may       198         1     -1         0  unknown   no  \n",
       "...         ...  ...   ...       ...       ...    ...       ...      ...  ...  \n",
       "45196  cellular   16   nov       330         1     -1         0  unknown  yes  \n",
       "45197  cellular   16   nov       270         1     -1         0  unknown  yes  \n",
       "45198  cellular   16   nov       333         2     -1         0  unknown   no  \n",
       "45199  cellular   16   nov      1166         3    530        12    other   no  \n",
       "45200  cellular   16   nov      1556         4     -1         0  unknown  yes  \n",
       "\n",
       "[45201 rows x 17 columns]"
      ]
     },
     "execution_count": 157,
     "metadata": {},
     "output_type": "execute_result"
    }
   ],
   "source": [
    "df.head(-10)"
   ]
  },
  {
   "cell_type": "code",
   "execution_count": 158,
   "id": "7e8afb3e",
   "metadata": {},
   "outputs": [
    {
     "data": {
      "text/html": [
       "<div>\n",
       "<style scoped>\n",
       "    .dataframe tbody tr th:only-of-type {\n",
       "        vertical-align: middle;\n",
       "    }\n",
       "\n",
       "    .dataframe tbody tr th {\n",
       "        vertical-align: top;\n",
       "    }\n",
       "\n",
       "    .dataframe thead th {\n",
       "        text-align: right;\n",
       "    }\n",
       "</style>\n",
       "<table border=\"1\" class=\"dataframe\">\n",
       "  <thead>\n",
       "    <tr style=\"text-align: right;\">\n",
       "      <th></th>\n",
       "      <th>age</th>\n",
       "      <th>balance</th>\n",
       "      <th>day</th>\n",
       "      <th>duration</th>\n",
       "      <th>campaign</th>\n",
       "      <th>pdays</th>\n",
       "      <th>previous</th>\n",
       "    </tr>\n",
       "  </thead>\n",
       "  <tbody>\n",
       "    <tr>\n",
       "      <th>count</th>\n",
       "      <td>45211.000000</td>\n",
       "      <td>45211.000000</td>\n",
       "      <td>45211.000000</td>\n",
       "      <td>45211.000000</td>\n",
       "      <td>45211.000000</td>\n",
       "      <td>45211.000000</td>\n",
       "      <td>45211.000000</td>\n",
       "    </tr>\n",
       "    <tr>\n",
       "      <th>mean</th>\n",
       "      <td>40.936210</td>\n",
       "      <td>1362.272058</td>\n",
       "      <td>15.806419</td>\n",
       "      <td>258.163080</td>\n",
       "      <td>2.763841</td>\n",
       "      <td>40.197828</td>\n",
       "      <td>0.580323</td>\n",
       "    </tr>\n",
       "    <tr>\n",
       "      <th>std</th>\n",
       "      <td>10.618762</td>\n",
       "      <td>3044.765829</td>\n",
       "      <td>8.322476</td>\n",
       "      <td>257.527812</td>\n",
       "      <td>3.098021</td>\n",
       "      <td>100.128746</td>\n",
       "      <td>2.303441</td>\n",
       "    </tr>\n",
       "    <tr>\n",
       "      <th>min</th>\n",
       "      <td>18.000000</td>\n",
       "      <td>-8019.000000</td>\n",
       "      <td>1.000000</td>\n",
       "      <td>0.000000</td>\n",
       "      <td>1.000000</td>\n",
       "      <td>-1.000000</td>\n",
       "      <td>0.000000</td>\n",
       "    </tr>\n",
       "    <tr>\n",
       "      <th>25%</th>\n",
       "      <td>33.000000</td>\n",
       "      <td>72.000000</td>\n",
       "      <td>8.000000</td>\n",
       "      <td>103.000000</td>\n",
       "      <td>1.000000</td>\n",
       "      <td>-1.000000</td>\n",
       "      <td>0.000000</td>\n",
       "    </tr>\n",
       "    <tr>\n",
       "      <th>50%</th>\n",
       "      <td>39.000000</td>\n",
       "      <td>448.000000</td>\n",
       "      <td>16.000000</td>\n",
       "      <td>180.000000</td>\n",
       "      <td>2.000000</td>\n",
       "      <td>-1.000000</td>\n",
       "      <td>0.000000</td>\n",
       "    </tr>\n",
       "    <tr>\n",
       "      <th>75%</th>\n",
       "      <td>48.000000</td>\n",
       "      <td>1428.000000</td>\n",
       "      <td>21.000000</td>\n",
       "      <td>319.000000</td>\n",
       "      <td>3.000000</td>\n",
       "      <td>-1.000000</td>\n",
       "      <td>0.000000</td>\n",
       "    </tr>\n",
       "    <tr>\n",
       "      <th>max</th>\n",
       "      <td>95.000000</td>\n",
       "      <td>102127.000000</td>\n",
       "      <td>31.000000</td>\n",
       "      <td>4918.000000</td>\n",
       "      <td>63.000000</td>\n",
       "      <td>871.000000</td>\n",
       "      <td>275.000000</td>\n",
       "    </tr>\n",
       "  </tbody>\n",
       "</table>\n",
       "</div>"
      ],
      "text/plain": [
       "                age        balance           day      duration      campaign  \\\n",
       "count  45211.000000   45211.000000  45211.000000  45211.000000  45211.000000   \n",
       "mean      40.936210    1362.272058     15.806419    258.163080      2.763841   \n",
       "std       10.618762    3044.765829      8.322476    257.527812      3.098021   \n",
       "min       18.000000   -8019.000000      1.000000      0.000000      1.000000   \n",
       "25%       33.000000      72.000000      8.000000    103.000000      1.000000   \n",
       "50%       39.000000     448.000000     16.000000    180.000000      2.000000   \n",
       "75%       48.000000    1428.000000     21.000000    319.000000      3.000000   \n",
       "max       95.000000  102127.000000     31.000000   4918.000000     63.000000   \n",
       "\n",
       "              pdays      previous  \n",
       "count  45211.000000  45211.000000  \n",
       "mean      40.197828      0.580323  \n",
       "std      100.128746      2.303441  \n",
       "min       -1.000000      0.000000  \n",
       "25%       -1.000000      0.000000  \n",
       "50%       -1.000000      0.000000  \n",
       "75%       -1.000000      0.000000  \n",
       "max      871.000000    275.000000  "
      ]
     },
     "execution_count": 158,
     "metadata": {},
     "output_type": "execute_result"
    }
   ],
   "source": [
    "df.describe()"
   ]
  },
  {
   "cell_type": "code",
   "execution_count": 159,
   "id": "cf5b1e34",
   "metadata": {},
   "outputs": [
    {
     "name": "stdout",
     "output_type": "stream",
     "text": [
      "<class 'pandas.core.frame.DataFrame'>\n",
      "RangeIndex: 45211 entries, 0 to 45210\n",
      "Data columns (total 17 columns):\n",
      " #   Column     Non-Null Count  Dtype \n",
      "---  ------     --------------  ----- \n",
      " 0   age        45211 non-null  int64 \n",
      " 1   job        45211 non-null  object\n",
      " 2   marital    45211 non-null  object\n",
      " 3   education  45211 non-null  object\n",
      " 4   default    45211 non-null  object\n",
      " 5   balance    45211 non-null  int64 \n",
      " 6   housing    45211 non-null  object\n",
      " 7   loan       45211 non-null  object\n",
      " 8   contact    45211 non-null  object\n",
      " 9   day        45211 non-null  int64 \n",
      " 10  month      45211 non-null  object\n",
      " 11  duration   45211 non-null  int64 \n",
      " 12  campaign   45211 non-null  int64 \n",
      " 13  pdays      45211 non-null  int64 \n",
      " 14  previous   45211 non-null  int64 \n",
      " 15  poutcome   45211 non-null  object\n",
      " 16  y          45211 non-null  object\n",
      "dtypes: int64(7), object(10)\n",
      "memory usage: 5.9+ MB\n"
     ]
    }
   ],
   "source": [
    "df.info()"
   ]
  },
  {
   "cell_type": "markdown",
   "id": "28e51658",
   "metadata": {},
   "source": [
    "# Data preprocessing"
   ]
  },
  {
   "cell_type": "code",
   "execution_count": 160,
   "id": "d0227a2f",
   "metadata": {},
   "outputs": [
    {
     "name": "stdout",
     "output_type": "stream",
     "text": [
      "job 288\n",
      "education 1857\n",
      "contact 13020\n",
      "poutcome 36959\n"
     ]
    },
    {
     "name": "stderr",
     "output_type": "stream",
     "text": [
      "<ipython-input-160-c78ab41cc519>:3: FutureWarning: elementwise comparison failed; returning scalar instead, but in the future will perform elementwise comparison\n",
      "  if 'unknown' in df[i].unique():\n"
     ]
    }
   ],
   "source": [
    "# The null values are replaced by 'unknown' in the given data. Finding the number of unknowns in a column.\n",
    "for i in df.columns:\n",
    "    if 'unknown' in df[i].unique():\n",
    "        check = df[i].value_counts().unknown\n",
    "        print(i,check)"
   ]
  },
  {
   "cell_type": "code",
   "execution_count": 161,
   "id": "3bcf24ce",
   "metadata": {},
   "outputs": [],
   "source": [
    "#Converting the duration in seconds to minutes.\n",
    "df['duration'] = df['duration']/60\n",
    "df.drop(['contact','poutcome'],axis = 1,inplace = True)"
   ]
  },
  {
   "cell_type": "code",
   "execution_count": 162,
   "id": "bc5314a4",
   "metadata": {},
   "outputs": [
    {
     "data": {
      "text/plain": [
       "<AxesSubplot:xlabel='y', ylabel='count'>"
      ]
     },
     "execution_count": 162,
     "metadata": {},
     "output_type": "execute_result"
    },
    {
     "data": {
      "image/png": "[encoded data removed]",
      "text/plain": [
       "<Figure size 432x288 with 1 Axes>"
      ]
     },
     "metadata": {
      "needs_background": "light"
     },
     "output_type": "display_data"
    }
   ],
   "source": [
    "# Counting the number of values in each class\n",
    "sns.countplot(x=\"y\", data=df)"
   ]
  },
  {
   "cell_type": "markdown",
   "id": "302cf1be",
   "metadata": {},
   "source": [
    "<h1> Feature Selection and Label Encoding </h1>"
   ]
  },
  {
   "cell_type": "code",
   "execution_count": 163,
   "id": "e5eca464",
   "metadata": {},
   "outputs": [],
   "source": [
    "# Categorical and Continous features are seperated\n",
    "x_cont = list(df.columns[(df.dtypes == 'int64') | (df.dtypes == 'float64')])\n",
    "x_cat = list(df.columns[df.dtypes == 'object'])\n",
    "x_cat.remove('y')"
   ]
  },
  {
   "cell_type": "code",
   "execution_count": 164,
   "id": "f3f4e413",
   "metadata": {},
   "outputs": [
    {
     "name": "stdout",
     "output_type": "stream",
     "text": [
      "['age', 'balance', 'day', 'duration', 'campaign', 'pdays', 'previous']\n"
     ]
    },
    {
     "data": {
      "text/html": [
       "<div>\n",
       "<style scoped>\n",
       "    .dataframe tbody tr th:only-of-type {\n",
       "        vertical-align: middle;\n",
       "    }\n",
       "\n",
       "    .dataframe tbody tr th {\n",
       "        vertical-align: top;\n",
       "    }\n",
       "\n",
       "    .dataframe thead th {\n",
       "        text-align: right;\n",
       "    }\n",
       "</style>\n",
       "<table border=\"1\" class=\"dataframe\">\n",
       "  <thead>\n",
       "    <tr style=\"text-align: right;\">\n",
       "      <th></th>\n",
       "      <th>Features</th>\n",
       "      <th>f_stat</th>\n",
       "      <th>p_val</th>\n",
       "    </tr>\n",
       "  </thead>\n",
       "  <tbody>\n",
       "    <tr>\n",
       "      <th>3</th>\n",
       "      <td>duration</td>\n",
       "      <td>8333.761148</td>\n",
       "      <td>0.000000e+00</td>\n",
       "    </tr>\n",
       "    <tr>\n",
       "      <th>5</th>\n",
       "      <td>pdays</td>\n",
       "      <td>490.696563</td>\n",
       "      <td>3.790553e-108</td>\n",
       "    </tr>\n",
       "    <tr>\n",
       "      <th>6</th>\n",
       "      <td>previous</td>\n",
       "      <td>396.443989</td>\n",
       "      <td>7.801830e-88</td>\n",
       "    </tr>\n",
       "    <tr>\n",
       "      <th>4</th>\n",
       "      <td>campaign</td>\n",
       "      <td>243.358404</td>\n",
       "      <td>1.012347e-54</td>\n",
       "    </tr>\n",
       "    <tr>\n",
       "      <th>1</th>\n",
       "      <td>balance</td>\n",
       "      <td>126.572276</td>\n",
       "      <td>2.521114e-29</td>\n",
       "    </tr>\n",
       "    <tr>\n",
       "      <th>2</th>\n",
       "      <td>day</td>\n",
       "      <td>36.359010</td>\n",
       "      <td>1.653880e-09</td>\n",
       "    </tr>\n",
       "    <tr>\n",
       "      <th>0</th>\n",
       "      <td>age</td>\n",
       "      <td>28.625233</td>\n",
       "      <td>8.825644e-08</td>\n",
       "    </tr>\n",
       "  </tbody>\n",
       "</table>\n",
       "</div>"
      ],
      "text/plain": [
       "   Features       f_stat          p_val\n",
       "3  duration  8333.761148   0.000000e+00\n",
       "5     pdays   490.696563  3.790553e-108\n",
       "6  previous   396.443989   7.801830e-88\n",
       "4  campaign   243.358404   1.012347e-54\n",
       "1   balance   126.572276   2.521114e-29\n",
       "2       day    36.359010   1.653880e-09\n",
       "0       age    28.625233   8.825644e-08"
      ]
     },
     "execution_count": 164,
     "metadata": {},
     "output_type": "execute_result"
    }
   ],
   "source": [
    "#ANOVA feature selection for continous features\n",
    "from sklearn.feature_selection import f_classif\n",
    "from sklearn.feature_selection import SelectKBest\n",
    "print(x_cont)\n",
    "f_stat, p_val = f_classif(df[x_cont],df['y'])\n",
    "anova = pd.DataFrame()\n",
    "anova['Features'] = x_cont\n",
    "anova['f_stat'] = f_stat\n",
    "anova['p_val'] = p_val\n",
    "anova.sort_values(by = 'f_stat',ascending = False,inplace = True)\n",
    "# kbest = SelectKBest(k=3)\n",
    "# kbest.fit(df[x_cont],df['y'])\n",
    "# kbest_features = x_cont[kbest.get_support()]\n",
    "# print(kbest_features)\n",
    "anova"
   ]
  },
  {
   "cell_type": "code",
   "execution_count": 165,
   "id": "e912d0d1",
   "metadata": {},
   "outputs": [
    {
     "name": "stdout",
     "output_type": "stream",
     "text": [
      "job ['management' 'technician' 'entrepreneur' 'blue-collar' 'unknown'\n",
      " 'retired' 'admin.' 'services' 'self-employed' 'unemployed' 'housemaid'\n",
      " 'student']\n",
      "marital ['married' 'single' 'divorced']\n",
      "education ['tertiary' 'secondary' 'unknown' 'primary']\n",
      "default ['no' 'yes']\n",
      "housing ['yes' 'no']\n",
      "loan ['no' 'yes']\n",
      "month ['may' 'jun' 'jul' 'aug' 'oct' 'nov' 'dec' 'jan' 'feb' 'mar' 'apr' 'sep']\n"
     ]
    }
   ],
   "source": [
    "for i in x_cat:\n",
    "    print(i,df[i].unique())"
   ]
  },
  {
   "cell_type": "code",
   "execution_count": 166,
   "id": "8ccbbe50",
   "metadata": {},
   "outputs": [],
   "source": [
    "#Logical label encoding\n",
    "df['job'] = df['job'].replace(['unemployed','unknown','student','housemaid','self-employed','technician','entrepreneur','blue-collar','management'  \n",
    "  ,'admin.','services','retired'],[0,1,2,3,4,5,6,7,8,9,10,11])\n",
    "df['marital'] = df['marital'].replace(['single','married','divorced'],[0,1,2])\n",
    "df['education'] = df['education'].replace(['unknown','primary','secondary','tertiary'],[0,1,2,3])\n",
    "df['default'] = df['default'].replace(['no','yes'],[0,1])\n",
    "df['housing'] = df['housing'].replace(['no','yes'],[0,1])\n",
    "df['loan'] = df['loan'].replace(['no','yes'],[0,1])\n",
    "df['month'] = df['month'].replace(['jan','feb','mar','apr','may','jun','jul','aug','sep','oct','nov','dec'],[0,1,2,3,4,5,6,7,8,9,10,11])\n",
    "df['y'] = df['y'].replace(['no','yes'],[0,1])"
   ]
  },
  {
   "cell_type": "code",
   "execution_count": 167,
   "id": "fd35a78a",
   "metadata": {},
   "outputs": [
    {
     "name": "stdout",
     "output_type": "stream",
     "text": [
      "[5.17028911e-02 4.17633070e+01 3.50694687e+01 2.23138750e+01\n",
      " 3.88949715e+02 1.76516137e+02 1.78516217e+01]\n"
     ]
    },
    {
     "data": {
      "text/html": [
       "<div>\n",
       "<style scoped>\n",
       "    .dataframe tbody tr th:only-of-type {\n",
       "        vertical-align: middle;\n",
       "    }\n",
       "\n",
       "    .dataframe tbody tr th {\n",
       "        vertical-align: top;\n",
       "    }\n",
       "\n",
       "    .dataframe thead th {\n",
       "        text-align: right;\n",
       "    }\n",
       "</style>\n",
       "<table border=\"1\" class=\"dataframe\">\n",
       "  <thead>\n",
       "    <tr style=\"text-align: right;\">\n",
       "      <th></th>\n",
       "      <th>Features</th>\n",
       "      <th>chi2_score</th>\n",
       "      <th>p_value</th>\n",
       "    </tr>\n",
       "  </thead>\n",
       "  <tbody>\n",
       "    <tr>\n",
       "      <th>4</th>\n",
       "      <td>housing</td>\n",
       "      <td>388.949715</td>\n",
       "      <td>1.401285e-86</td>\n",
       "    </tr>\n",
       "    <tr>\n",
       "      <th>5</th>\n",
       "      <td>loan</td>\n",
       "      <td>176.516137</td>\n",
       "      <td>2.793375e-40</td>\n",
       "    </tr>\n",
       "    <tr>\n",
       "      <th>1</th>\n",
       "      <td>marital</td>\n",
       "      <td>41.763307</td>\n",
       "      <td>1.030187e-10</td>\n",
       "    </tr>\n",
       "    <tr>\n",
       "      <th>2</th>\n",
       "      <td>education</td>\n",
       "      <td>35.069469</td>\n",
       "      <td>3.181501e-09</td>\n",
       "    </tr>\n",
       "    <tr>\n",
       "      <th>3</th>\n",
       "      <td>default</td>\n",
       "      <td>22.313875</td>\n",
       "      <td>2.315277e-06</td>\n",
       "    </tr>\n",
       "    <tr>\n",
       "      <th>6</th>\n",
       "      <td>month</td>\n",
       "      <td>17.851622</td>\n",
       "      <td>2.388157e-05</td>\n",
       "    </tr>\n",
       "    <tr>\n",
       "      <th>0</th>\n",
       "      <td>job</td>\n",
       "      <td>0.051703</td>\n",
       "      <td>8.201262e-01</td>\n",
       "    </tr>\n",
       "  </tbody>\n",
       "</table>\n",
       "</div>"
      ],
      "text/plain": [
       "    Features  chi2_score       p_value\n",
       "4    housing  388.949715  1.401285e-86\n",
       "5       loan  176.516137  2.793375e-40\n",
       "1    marital   41.763307  1.030187e-10\n",
       "2  education   35.069469  3.181501e-09\n",
       "3    default   22.313875  2.315277e-06\n",
       "6      month   17.851622  2.388157e-05\n",
       "0        job    0.051703  8.201262e-01"
      ]
     },
     "execution_count": 167,
     "metadata": {},
     "output_type": "execute_result"
    }
   ],
   "source": [
    "#Chi2 test for categorical variables\n",
    "from sklearn.feature_selection import chi2\n",
    "chi2_score, p_value = chi2(df[x_cat],df['y'])\n",
    "print(chi2_score)\n",
    "chi2 = pd.DataFrame()\n",
    "chi2['Features'] = x_cat\n",
    "chi2['chi2_score'] = chi2_score\n",
    "chi2['p_value'] = p_value\n",
    "chi2.sort_values(by = 'chi2_score',ascending = False,inplace = True)\n",
    "chi2"
   ]
  },
  {
   "cell_type": "markdown",
   "id": "5e9658da",
   "metadata": {},
   "source": [
    "<h1> Visualization </h1>"
   ]
  },
  {
   "cell_type": "code",
   "execution_count": 168,
   "id": "52b98bad",
   "metadata": {},
   "outputs": [
    {
     "data": {
      "image/png": "[encoded data removed]",
      "text/plain": [
       "<Figure size 1080x360 with 8 Axes>"
      ]
     },
     "metadata": {
      "needs_background": "light"
     },
     "output_type": "display_data"
    }
   ],
   "source": [
    "# Exploring continous features\n",
    "fig, axes = plt.subplots(nrows=2, ncols=4, figsize=(15,5))\n",
    "fig.subplots_adjust(hspace =.2, wspace=.5)\n",
    "axes = axes.ravel()\n",
    "for i, col in enumerate(x_cont):\n",
    "    sns.boxplot(y=col, x='y', data=df, ax=axes[i])"
   ]
  },
  {
   "cell_type": "code",
   "execution_count": 169,
   "id": "3490e8eb",
   "metadata": {},
   "outputs": [
    {
     "data": {
      "text/plain": [
       "<AxesSubplot:xlabel='previous', ylabel='Count'>"
      ]
     },
     "execution_count": 169,
     "metadata": {},
     "output_type": "execute_result"
    },
    {
     "data": {
      "image/png": "[encoded data removed]",
      "text/plain": [
       "<Figure size 720x1440 with 10 Axes>"
      ]
     },
     "metadata": {
      "needs_background": "light"
     },
     "output_type": "display_data"
    }
   ],
   "source": [
    "#Visualization of continous data with high outliers\n",
    "fig, axes = plt.subplots(nrows=5, ncols=2, figsize=(10,20))\n",
    "fig.subplots_adjust(hspace =.3, wspace=.3)\n",
    "#Balance\n",
    "sns.histplot(data=df,x=\"balance\",hue=\"y\",bins=50,multiple=\"stack\",ax=axes[0,0])\n",
    "check = df[df['balance']>20000]\n",
    "sns.histplot(data=check,x=\"balance\",hue=\"y\",bins=50,multiple=\"stack\",ax = axes[0,1])\n",
    "#Duration\n",
    "sns.histplot(data=df,x=\"duration\",hue=\"y\",bins=50,multiple=\"stack\",ax = axes[1,0])\n",
    "check = df[df['duration']>20]\n",
    "sns.histplot(data=check,x=\"duration\",hue=\"y\",bins=50,multiple=\"stack\",ax = axes[1,1])\n",
    "#Campaign\n",
    "sns.histplot(data=df,x=\"campaign\",hue=\"y\",bins=50,multiple=\"stack\",ax = axes[2,0])\n",
    "check = df[df['campaign']>7]\n",
    "sns.histplot(data=check,x=\"campaign\",hue=\"y\",bins=50,multiple=\"stack\",ax = axes[2,1])\n",
    "#Pdays\n",
    "sns.histplot(data=df,x=\"pdays\",hue=\"y\",bins=50,multiple=\"stack\",ax = axes[3,0])\n",
    "check = df[df['pdays']>7]\n",
    "sns.histplot(data=check,x=\"pdays\",hue=\"y\",bins=50,multiple=\"stack\",ax = axes[3,1])\n",
    "#Previous\n",
    "sns.histplot(data=df,x=\"previous\",hue=\"y\",bins=50,multiple=\"stack\",ax = axes[4,0])\n",
    "check = df[df['previous']>7]\n",
    "sns.histplot(data=check,x=\"previous\",hue=\"y\",bins=50,multiple=\"stack\",ax = axes[4,1])"
   ]
  },
  {
   "cell_type": "markdown",
   "id": "9fdd1eec",
   "metadata": {},
   "source": [
    "<h1>Feature Scaling</h1>"
   ]
  },
  {
   "cell_type": "code",
   "execution_count": 170,
   "id": "1ec744fc",
   "metadata": {},
   "outputs": [],
   "source": [
    "# Scaling continous data to 0-1 scale\n",
    "from sklearn.preprocessing import MinMaxScaler\n",
    "scaler = MinMaxScaler()\n",
    "df[x_cont] = scaler.fit_transform(df[x_cont])"
   ]
  },
  {
   "cell_type": "code",
   "execution_count": 171,
   "id": "0b0439e5",
   "metadata": {},
   "outputs": [
    {
     "data": {
      "text/html": [
       "<div>\n",
       "<style scoped>\n",
       "    .dataframe tbody tr th:only-of-type {\n",
       "        vertical-align: middle;\n",
       "    }\n",
       "\n",
       "    .dataframe tbody tr th {\n",
       "        vertical-align: top;\n",
       "    }\n",
       "\n",
       "    .dataframe thead th {\n",
       "        text-align: right;\n",
       "    }\n",
       "</style>\n",
       "<table border=\"1\" class=\"dataframe\">\n",
       "  <thead>\n",
       "    <tr style=\"text-align: right;\">\n",
       "      <th></th>\n",
       "      <th>marital</th>\n",
       "      <th>education</th>\n",
       "      <th>default</th>\n",
       "      <th>balance</th>\n",
       "      <th>housing</th>\n",
       "      <th>loan</th>\n",
       "      <th>duration</th>\n",
       "      <th>campaign</th>\n",
       "      <th>pdays</th>\n",
       "      <th>previous</th>\n",
       "    </tr>\n",
       "  </thead>\n",
       "  <tbody>\n",
       "    <tr>\n",
       "      <th>0</th>\n",
       "      <td>1</td>\n",
       "      <td>3</td>\n",
       "      <td>0</td>\n",
       "      <td>0.092259</td>\n",
       "      <td>1</td>\n",
       "      <td>0</td>\n",
       "      <td>0.053070</td>\n",
       "      <td>0.0</td>\n",
       "      <td>0.0</td>\n",
       "      <td>0.0</td>\n",
       "    </tr>\n",
       "    <tr>\n",
       "      <th>1</th>\n",
       "      <td>0</td>\n",
       "      <td>2</td>\n",
       "      <td>0</td>\n",
       "      <td>0.073067</td>\n",
       "      <td>1</td>\n",
       "      <td>0</td>\n",
       "      <td>0.030704</td>\n",
       "      <td>0.0</td>\n",
       "      <td>0.0</td>\n",
       "      <td>0.0</td>\n",
       "    </tr>\n",
       "    <tr>\n",
       "      <th>2</th>\n",
       "      <td>1</td>\n",
       "      <td>2</td>\n",
       "      <td>0</td>\n",
       "      <td>0.072822</td>\n",
       "      <td>1</td>\n",
       "      <td>1</td>\n",
       "      <td>0.015453</td>\n",
       "      <td>0.0</td>\n",
       "      <td>0.0</td>\n",
       "      <td>0.0</td>\n",
       "    </tr>\n",
       "    <tr>\n",
       "      <th>3</th>\n",
       "      <td>1</td>\n",
       "      <td>0</td>\n",
       "      <td>0</td>\n",
       "      <td>0.086476</td>\n",
       "      <td>1</td>\n",
       "      <td>0</td>\n",
       "      <td>0.018707</td>\n",
       "      <td>0.0</td>\n",
       "      <td>0.0</td>\n",
       "      <td>0.0</td>\n",
       "    </tr>\n",
       "    <tr>\n",
       "      <th>4</th>\n",
       "      <td>0</td>\n",
       "      <td>0</td>\n",
       "      <td>0</td>\n",
       "      <td>0.072812</td>\n",
       "      <td>0</td>\n",
       "      <td>0</td>\n",
       "      <td>0.040260</td>\n",
       "      <td>0.0</td>\n",
       "      <td>0.0</td>\n",
       "      <td>0.0</td>\n",
       "    </tr>\n",
       "  </tbody>\n",
       "</table>\n",
       "</div>"
      ],
      "text/plain": [
       "   marital  education  default   balance  housing  loan  duration  campaign  \\\n",
       "0        1          3        0  0.092259        1     0  0.053070       0.0   \n",
       "1        0          2        0  0.073067        1     0  0.030704       0.0   \n",
       "2        1          2        0  0.072822        1     1  0.015453       0.0   \n",
       "3        1          0        0  0.086476        1     0  0.018707       0.0   \n",
       "4        0          0        0  0.072812        0     0  0.040260       0.0   \n",
       "\n",
       "   pdays  previous  \n",
       "0    0.0       0.0  \n",
       "1    0.0       0.0  \n",
       "2    0.0       0.0  \n",
       "3    0.0       0.0  \n",
       "4    0.0       0.0  "
      ]
     },
     "execution_count": 171,
     "metadata": {},
     "output_type": "execute_result"
    }
   ],
   "source": [
    "# Dropping features with high p-value or low score\n",
    "X = df.drop(['age','day','job','month','y'],axis = 1)\n",
    "Y = df['y']\n",
    "X.head()"
   ]
  },
  {
   "cell_type": "markdown",
   "id": "fc501a53",
   "metadata": {},
   "source": [
    "<h1>Training</h1>\n",
    "<h3> Train test split </h3>"
   ]
  },
  {
   "cell_type": "code",
   "execution_count": 172,
   "id": "1f2b42df",
   "metadata": {},
   "outputs": [],
   "source": [
    "from sklearn.model_selection import train_test_split\n",
    "x_train,x_test,y_train,y_test = train_test_split(X,df['y'],test_size = 0.2)"
   ]
  },
  {
   "cell_type": "markdown",
   "id": "23d3a8ee",
   "metadata": {},
   "source": [
    "<h3>Model Fitting</h3>"
   ]
  },
  {
   "cell_type": "code",
   "execution_count": 173,
   "id": "ef08801c",
   "metadata": {},
   "outputs": [
    {
     "name": "stdout",
     "output_type": "stream",
     "text": [
      "[[7930  120]\n",
      " [ 812  181]]\n",
      "0.8969368572376424\n"
     ]
    }
   ],
   "source": [
    "### Modelling data with Logistic Regression\n",
    "from sklearn.linear_model import LogisticRegression\n",
    "n_folds = 4\n",
    "reg = LogisticRegression()\n",
    "lreg = reg.fit(x_train, y_train)\n",
    "#testing the data set\n",
    "y_pred = lreg.predict(x_test)\n",
    "print(confusion_matrix(y_test,y_pred))\n",
    "print(accuracy_score(y_test,y_pred))"
   ]
  },
  {
   "cell_type": "code",
   "execution_count": 174,
   "id": "36deafcf",
   "metadata": {},
   "outputs": [
    {
     "name": "stderr",
     "output_type": "stream",
     "text": [
      "C:\\Users\\Rohit Varre\\miniconda3\\lib\\site-packages\\sklearn\\linear_model\\_logistic.py:444: ConvergenceWarning: lbfgs failed to converge (status=1):\n",
      "STOP: TOTAL NO. of ITERATIONS REACHED LIMIT.\n",
      "\n",
      "Increase the number of iterations (max_iter) or scale the data as shown in:\n",
      "    https://scikit-learn.org/stable/modules/preprocessing.html\n",
      "Please also refer to the documentation for alternative solver options:\n",
      "    https://scikit-learn.org/stable/modules/linear_model.html#logistic-regression\n",
      "  n_iter_i = _check_optimize_result(\n",
      "C:\\Users\\Rohit Varre\\miniconda3\\lib\\site-packages\\sklearn\\linear_model\\_logistic.py:444: ConvergenceWarning: lbfgs failed to converge (status=1):\n",
      "STOP: TOTAL NO. of ITERATIONS REACHED LIMIT.\n",
      "\n",
      "Increase the number of iterations (max_iter) or scale the data as shown in:\n",
      "    https://scikit-learn.org/stable/modules/preprocessing.html\n",
      "Please also refer to the documentation for alternative solver options:\n",
      "    https://scikit-learn.org/stable/modules/linear_model.html#logistic-regression\n",
      "  n_iter_i = _check_optimize_result(\n"
     ]
    },
    {
     "name": "stdout",
     "output_type": "stream",
     "text": [
      "The 4-fold cross-validation accuracy score for this classifier is 0.8784\n"
     ]
    },
    {
     "name": "stderr",
     "output_type": "stream",
     "text": [
      "C:\\Users\\Rohit Varre\\miniconda3\\lib\\site-packages\\sklearn\\linear_model\\_logistic.py:444: ConvergenceWarning: lbfgs failed to converge (status=1):\n",
      "STOP: TOTAL NO. of ITERATIONS REACHED LIMIT.\n",
      "\n",
      "Increase the number of iterations (max_iter) or scale the data as shown in:\n",
      "    https://scikit-learn.org/stable/modules/preprocessing.html\n",
      "Please also refer to the documentation for alternative solver options:\n",
      "    https://scikit-learn.org/stable/modules/linear_model.html#logistic-regression\n",
      "  n_iter_i = _check_optimize_result(\n"
     ]
    }
   ],
   "source": [
    "### K-fold cross validation for logistic regression\n",
    "cv_error = np.average(cross_val_score(lreg, X, Y, cv=n_folds))\n",
    "print('The {}-fold cross-validation accuracy score for this classifier is {:.4f}'.format(n_folds, cv_error))"
   ]
  },
  {
   "cell_type": "code",
   "execution_count": 175,
   "id": "d171a130",
   "metadata": {},
   "outputs": [
    {
     "name": "stdout",
     "output_type": "stream",
     "text": [
      "[[7760  290]\n",
      " [ 658  335]]\n",
      "0.8951675328983745\n"
     ]
    }
   ],
   "source": [
    "### Modelling data with Random Forest\n",
    "from sklearn.ensemble import RandomForestClassifier\n",
    "rf = RandomForestClassifier(n_estimators = 200)\n",
    "rf_fit = rf.fit(x_train,y_train)\n",
    "y_pred = rf.predict(x_test)\n",
    "print(confusion_matrix(y_test,y_pred))\n",
    "print(accuracy_score(y_test,y_pred))"
   ]
  },
  {
   "cell_type": "code",
   "execution_count": 176,
   "id": "e5128f8e",
   "metadata": {},
   "outputs": [
    {
     "name": "stdout",
     "output_type": "stream",
     "text": [
      "The 4-fold cross-validation accuracy score for this classifier is 0.8876\n"
     ]
    }
   ],
   "source": [
    "### K-fold cross validation for random forest\n",
    "n_folds = 4\n",
    "cv_error = np.average(cross_val_score(rf_fit, x_train, y_train, cv=n_folds))\n",
    "print('The {}-fold cross-validation accuracy score for this classifier is {:.4f}'.format(n_folds, cv_error))"
   ]
  },
  {
   "cell_type": "code",
   "execution_count": 177,
   "id": "64ecbf6c",
   "metadata": {},
   "outputs": [
    {
     "name": "stdout",
     "output_type": "stream",
     "text": [
      "[[8050    0]\n",
      " [ 993    0]]\n",
      "0.8901913081941834\n"
     ]
    }
   ],
   "source": [
    "### Modelling data with support vector machines\n",
    "from sklearn.svm import SVC\n",
    "svc = SVC()\n",
    "svc.fit(x_train, y_train)\n",
    "y_pred = svc.predict(x_test)\n",
    "print(confusion_matrix(y_test,y_pred))\n",
    "print(accuracy_score(y_test,y_pred))"
   ]
  },
  {
   "cell_type": "code",
   "execution_count": 178,
   "id": "56fc66f9",
   "metadata": {},
   "outputs": [
    {
     "name": "stdout",
     "output_type": "stream",
     "text": [
      "The 4-fold cross-validation accuracy score for this classifier is 0.88\n"
     ]
    }
   ],
   "source": [
    "### K fold cross validation for svc\n",
    "n_folds = 4\n",
    "cv_error = np.average(cross_val_score(svc, x_train, y_train, cv=n_folds))\n",
    "print('The {}-fold cross-validation accuracy score for this classifier is {:.2f}'.format(n_folds, cv_error))"
   ]
  },
  {
   "cell_type": "code",
   "execution_count": 179,
   "id": "0e6587a8",
   "metadata": {},
   "outputs": [
    {
     "name": "stdout",
     "output_type": "stream",
     "text": [
      "Model: \"sequential_4\"\n",
      "_________________________________________________________________\n",
      "Layer (type)                 Output Shape              Param #   \n",
      "=================================================================\n",
      "dense_16 (Dense)             (None, 20)                220       \n",
      "_________________________________________________________________\n",
      "batch_normalization_4 (Batch (None, 20)                80        \n",
      "_________________________________________________________________\n",
      "dense_17 (Dense)             (None, 20)                420       \n",
      "_________________________________________________________________\n",
      "dense_18 (Dense)             (None, 10)                210       \n",
      "_________________________________________________________________\n",
      "dense_19 (Dense)             (None, 1)                 11        \n",
      "=================================================================\n",
      "Total params: 941\n",
      "Trainable params: 901\n",
      "Non-trainable params: 40\n",
      "_________________________________________________________________\n"
     ]
    }
   ],
   "source": [
    "### Model architecture for ann\n",
    "model = Sequential([\n",
    "    Dense(units = 20, input_shape = (10,), activation = 'relu'),\n",
    "    BatchNormalization(),\n",
    "    Dense(units = 20, activation = 'relu',kernel_regularizer = keras.regularizers.l2(0.01)),\n",
    "    Dense(units = 10, activation = 'relu',kernel_regularizer = keras.regularizers.l2(0.01)),\n",
    "    Dense(units = 1, activation = 'sigmoid')\n",
    "])\n",
    "model.summary()"
   ]
  },
  {
   "cell_type": "code",
   "execution_count": 180,
   "id": "1eb9d5c8",
   "metadata": {},
   "outputs": [
    {
     "name": "stdout",
     "output_type": "stream",
     "text": [
      "Epoch 1/60\n",
      "116/116 - 1s - loss: 0.6098 - accuracy: 0.0000e+00 - val_loss: 0.5037 - val_accuracy: 0.0000e+00\n",
      "Epoch 2/60\n",
      "116/116 - 0s - loss: 0.4301 - accuracy: 0.0000e+00 - val_loss: 0.4181 - val_accuracy: 0.0000e+00\n",
      "Epoch 3/60\n",
      "116/116 - 0s - loss: 0.3572 - accuracy: 0.0000e+00 - val_loss: 0.3647 - val_accuracy: 0.0000e+00\n",
      "Epoch 4/60\n",
      "116/116 - 0s - loss: 0.3039 - accuracy: 0.0000e+00 - val_loss: 0.3299 - val_accuracy: 0.0000e+00\n",
      "Epoch 5/60\n",
      "116/116 - 0s - loss: 0.2869 - accuracy: 0.0000e+00 - val_loss: 0.3166 - val_accuracy: 0.0000e+00\n",
      "Epoch 6/60\n",
      "116/116 - 0s - loss: 0.2813 - accuracy: 0.0000e+00 - val_loss: 0.2997 - val_accuracy: 0.0000e+00\n",
      "Epoch 7/60\n",
      "116/116 - 0s - loss: 0.2745 - accuracy: 0.0000e+00 - val_loss: 0.2876 - val_accuracy: 0.0000e+00\n",
      "Epoch 8/60\n",
      "116/116 - 0s - loss: 0.2726 - accuracy: 0.0000e+00 - val_loss: 0.2872 - val_accuracy: 0.0000e+00\n",
      "Epoch 9/60\n",
      "116/116 - 0s - loss: 0.2707 - accuracy: 0.0000e+00 - val_loss: 0.2879 - val_accuracy: 0.0000e+00\n",
      "Epoch 10/60\n",
      "116/116 - 0s - loss: 0.2709 - accuracy: 0.0000e+00 - val_loss: 0.2871 - val_accuracy: 0.0000e+00\n",
      "Epoch 11/60\n",
      "116/116 - 0s - loss: 0.2707 - accuracy: 0.0000e+00 - val_loss: 0.3133 - val_accuracy: 0.0000e+00\n",
      "Epoch 12/60\n",
      "116/116 - 0s - loss: 0.2715 - accuracy: 0.0000e+00 - val_loss: 0.2783 - val_accuracy: 0.0000e+00\n",
      "Epoch 13/60\n",
      "116/116 - 0s - loss: 0.2684 - accuracy: 0.0000e+00 - val_loss: 0.2876 - val_accuracy: 0.0000e+00\n",
      "Epoch 14/60\n",
      "116/116 - 0s - loss: 0.2667 - accuracy: 0.0000e+00 - val_loss: 0.3081 - val_accuracy: 0.0000e+00\n",
      "Epoch 15/60\n",
      "116/116 - 0s - loss: 0.2675 - accuracy: 0.0000e+00 - val_loss: 0.2835 - val_accuracy: 0.0000e+00\n",
      "Epoch 16/60\n",
      "116/116 - 0s - loss: 0.2674 - accuracy: 0.0000e+00 - val_loss: 0.2795 - val_accuracy: 0.0000e+00\n",
      "Epoch 17/60\n",
      "116/116 - 0s - loss: 0.2674 - accuracy: 0.0000e+00 - val_loss: 0.2810 - val_accuracy: 0.0000e+00\n",
      "Epoch 18/60\n",
      "116/116 - 0s - loss: 0.2660 - accuracy: 0.0000e+00 - val_loss: 0.2827 - val_accuracy: 0.0000e+00\n",
      "Epoch 19/60\n",
      "116/116 - 0s - loss: 0.2654 - accuracy: 0.0000e+00 - val_loss: 0.2731 - val_accuracy: 0.0000e+00\n",
      "Epoch 20/60\n",
      "116/116 - 0s - loss: 0.2666 - accuracy: 0.0000e+00 - val_loss: 0.2752 - val_accuracy: 0.0000e+00\n",
      "Epoch 21/60\n",
      "116/116 - 0s - loss: 0.2666 - accuracy: 0.0000e+00 - val_loss: 0.2736 - val_accuracy: 0.0000e+00\n",
      "Epoch 22/60\n",
      "116/116 - 0s - loss: 0.2661 - accuracy: 0.0000e+00 - val_loss: 0.2824 - val_accuracy: 0.0000e+00\n",
      "Epoch 23/60\n",
      "116/116 - 0s - loss: 0.2650 - accuracy: 0.0000e+00 - val_loss: 0.2805 - val_accuracy: 0.0000e+00\n",
      "Epoch 24/60\n",
      "116/116 - 0s - loss: 0.2647 - accuracy: 0.0000e+00 - val_loss: 0.2762 - val_accuracy: 0.0000e+00\n",
      "Epoch 25/60\n",
      "116/116 - 0s - loss: 0.2666 - accuracy: 0.0000e+00 - val_loss: 0.2740 - val_accuracy: 0.0000e+00\n",
      "Epoch 26/60\n",
      "116/116 - 0s - loss: 0.2643 - accuracy: 0.0000e+00 - val_loss: 0.2850 - val_accuracy: 0.0000e+00\n",
      "Epoch 27/60\n",
      "116/116 - 0s - loss: 0.2651 - accuracy: 0.0000e+00 - val_loss: 0.2746 - val_accuracy: 0.0000e+00\n",
      "Epoch 28/60\n",
      "116/116 - 0s - loss: 0.2644 - accuracy: 0.0000e+00 - val_loss: 0.2921 - val_accuracy: 0.0000e+00\n",
      "Epoch 29/60\n",
      "116/116 - 0s - loss: 0.2656 - accuracy: 0.0000e+00 - val_loss: 0.2730 - val_accuracy: 0.0000e+00\n",
      "Epoch 30/60\n",
      "116/116 - 0s - loss: 0.2646 - accuracy: 0.0000e+00 - val_loss: 0.2737 - val_accuracy: 0.0000e+00\n",
      "Epoch 31/60\n",
      "116/116 - 0s - loss: 0.2642 - accuracy: 0.0000e+00 - val_loss: 0.2982 - val_accuracy: 0.0000e+00\n",
      "Epoch 32/60\n",
      "116/116 - 0s - loss: 0.2644 - accuracy: 0.0000e+00 - val_loss: 0.3029 - val_accuracy: 0.0000e+00\n",
      "Epoch 33/60\n",
      "116/116 - 0s - loss: 0.2665 - accuracy: 0.0000e+00 - val_loss: 0.2813 - val_accuracy: 0.0000e+00\n",
      "Epoch 34/60\n",
      "116/116 - 0s - loss: 0.2667 - accuracy: 0.0000e+00 - val_loss: 0.2727 - val_accuracy: 0.0000e+00\n",
      "Epoch 35/60\n",
      "116/116 - 0s - loss: 0.2665 - accuracy: 0.0000e+00 - val_loss: 0.2796 - val_accuracy: 0.0000e+00\n",
      "Epoch 36/60\n",
      "116/116 - 0s - loss: 0.2659 - accuracy: 0.0000e+00 - val_loss: 0.2826 - val_accuracy: 0.0000e+00\n",
      "Epoch 37/60\n",
      "116/116 - 0s - loss: 0.2653 - accuracy: 0.0000e+00 - val_loss: 0.3038 - val_accuracy: 0.0000e+00\n",
      "Epoch 38/60\n",
      "116/116 - 0s - loss: 0.2664 - accuracy: 0.0000e+00 - val_loss: 0.2801 - val_accuracy: 0.0000e+00\n",
      "Epoch 39/60\n",
      "116/116 - 0s - loss: 0.2646 - accuracy: 0.0000e+00 - val_loss: 0.2764 - val_accuracy: 0.0000e+00\n",
      "Epoch 40/60\n",
      "116/116 - 0s - loss: 0.2657 - accuracy: 0.0000e+00 - val_loss: 0.2999 - val_accuracy: 0.0000e+00\n",
      "Epoch 41/60\n",
      "116/116 - 0s - loss: 0.2651 - accuracy: 0.0000e+00 - val_loss: 0.2930 - val_accuracy: 0.0000e+00\n",
      "Epoch 42/60\n",
      "116/116 - 0s - loss: 0.2639 - accuracy: 0.0000e+00 - val_loss: 0.2749 - val_accuracy: 0.0000e+00\n",
      "Epoch 43/60\n",
      "116/116 - 0s - loss: 0.2646 - accuracy: 0.0000e+00 - val_loss: 0.3442 - val_accuracy: 0.0000e+00\n",
      "Epoch 44/60\n",
      "116/116 - 0s - loss: 0.2650 - accuracy: 0.0000e+00 - val_loss: 0.2887 - val_accuracy: 0.0000e+00\n",
      "Epoch 45/60\n",
      "116/116 - 0s - loss: 0.2654 - accuracy: 0.0000e+00 - val_loss: 0.2899 - val_accuracy: 0.0000e+00\n",
      "Epoch 46/60\n",
      "116/116 - 0s - loss: 0.2639 - accuracy: 0.0000e+00 - val_loss: 0.2809 - val_accuracy: 0.0000e+00\n",
      "Epoch 47/60\n",
      "116/116 - 0s - loss: 0.2642 - accuracy: 0.0000e+00 - val_loss: 0.2760 - val_accuracy: 0.0000e+00\n",
      "Epoch 48/60\n",
      "116/116 - 0s - loss: 0.2639 - accuracy: 0.0000e+00 - val_loss: 0.2764 - val_accuracy: 0.0000e+00\n",
      "Epoch 49/60\n",
      "116/116 - 0s - loss: 0.2631 - accuracy: 0.0000e+00 - val_loss: 0.2728 - val_accuracy: 0.0000e+00\n",
      "Epoch 50/60\n",
      "116/116 - 0s - loss: 0.2638 - accuracy: 0.0000e+00 - val_loss: 0.2926 - val_accuracy: 0.0000e+00\n",
      "Epoch 51/60\n",
      "116/116 - 0s - loss: 0.2632 - accuracy: 0.0000e+00 - val_loss: 0.2864 - val_accuracy: 0.0000e+00\n",
      "Epoch 52/60\n",
      "116/116 - 0s - loss: 0.2625 - accuracy: 0.0000e+00 - val_loss: 0.2719 - val_accuracy: 0.0000e+00\n",
      "Epoch 53/60\n",
      "116/116 - 0s - loss: 0.2638 - accuracy: 0.0000e+00 - val_loss: 0.2706 - val_accuracy: 0.0000e+00\n",
      "Epoch 54/60\n",
      "116/116 - 0s - loss: 0.2633 - accuracy: 0.0000e+00 - val_loss: 0.2900 - val_accuracy: 0.0000e+00\n",
      "Epoch 55/60\n",
      "116/116 - 0s - loss: 0.2647 - accuracy: 0.0000e+00 - val_loss: 0.2760 - val_accuracy: 0.0000e+00\n",
      "Epoch 56/60\n",
      "116/116 - 0s - loss: 0.2666 - accuracy: 0.0000e+00 - val_loss: 0.2817 - val_accuracy: 0.0000e+00\n",
      "Epoch 57/60\n",
      "116/116 - 0s - loss: 0.2666 - accuracy: 0.0000e+00 - val_loss: 0.2732 - val_accuracy: 0.0000e+00\n",
      "Epoch 58/60\n",
      "116/116 - 0s - loss: 0.2647 - accuracy: 0.0000e+00 - val_loss: 0.2768 - val_accuracy: 0.0000e+00\n",
      "Epoch 59/60\n",
      "116/116 - 0s - loss: 0.2651 - accuracy: 0.0000e+00 - val_loss: 0.2907 - val_accuracy: 0.0000e+00\n",
      "Epoch 60/60\n",
      "116/116 - 0s - loss: 0.2641 - accuracy: 0.0000e+00 - val_loss: 0.2737 - val_accuracy: 0.0000e+00\n"
     ]
    }
   ],
   "source": [
    "### Compiling the model and keeping a track of the losses.\n",
    "model.compile(optimizer=SGD(learning_rate=0.02,momentum = 0.9), loss='BinaryCrossentropy', metrics = ['Accuracy'])\n",
    "history = model.fit(x=x_train,y=y_train,epochs=60,verbose=2,validation_split=0.2,batch_size=250)"
   ]
  },
  {
   "cell_type": "code",
   "execution_count": 181,
   "id": "ca8fa6b4",
   "metadata": {},
   "outputs": [
    {
     "name": "stdout",
     "output_type": "stream",
     "text": [
      "283/283 [==============================] - 0s 1ms/step - loss: 0.2583 - accuracy: 0.0000e+00\n",
      "[[7831  219]\n",
      " [ 731  262]]\n",
      "0.8949463673559659\n"
     ]
    }
   ],
   "source": [
    "### Evaluating and predicting the test dataset.\n",
    "model.evaluate(x=x_test,y=y_test)\n",
    "pred = model.predict(x_test)\n",
    "y_pred = [0 if pred[i]<0.5 else 1 for i in range(len(pred))]\n",
    "print(confusion_matrix(y_test,y_pred))\n",
    "print(accuracy_score(y_test,y_pred))"
   ]
  },
  {
   "cell_type": "code",
   "execution_count": 182,
   "id": "3ce28646",
   "metadata": {},
   "outputs": [
    {
     "data": {
      "image/png": "[encoded data removed]",
      "text/plain": [
       "<Figure size 432x288 with 1 Axes>"
      ]
     },
     "metadata": {
      "needs_background": "light"
     },
     "output_type": "display_data"
    }
   ],
   "source": [
    "### Loss vs epochs to analyse the gradient descent alogorithm.\n",
    "loss = history.history['loss']\n",
    "val_loss = history.history['val_loss']\n",
    "epochs = range(1,61)\n",
    "plt.plot(epochs, loss, 'g', label='loss')\n",
    "plt.plot(epochs, val_loss, 'r', label='val_loss')\n",
    "plt.xlabel('Epochs')\n",
    "plt.ylabel('Loss')\n",
    "plt.legend()\n",
    "plt.show()"
   ]
  },
  {
   "cell_type": "code",
   "execution_count": null,
   "id": "4183b71c",
   "metadata": {},
   "outputs": [],
   "source": []
  }
 ],
 "metadata": {
  "kernelspec": {
   "display_name": "Python 3",
   "language": "python",
   "name": "python3"
  },
  "language_info": {
   "codemirror_mode": {
    "name": "ipython",
    "version": 3
   },
   "file_extension": ".py",
   "mimetype": "text/x-python",
   "name": "python",
   "nbconvert_exporter": "python",
   "pygments_lexer": "ipython3",
   "version": "3.9.1"
  },
  "vscode": {
   "interpreter": {
    "hash": "96757e197c52cbd83fce3f567f406433550b4d2765ea4164f3ee77065513c256"
   }
  }
 },
 "nbformat": 4,
 "nbformat_minor": 5
}
